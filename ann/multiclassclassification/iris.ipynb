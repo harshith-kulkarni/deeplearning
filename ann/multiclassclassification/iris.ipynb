{
  "nbformat": 4,
  "nbformat_minor": 0,
  "metadata": {
    "colab": {
      "private_outputs": true,
      "provenance": []
    },
    "kernelspec": {
      "name": "python3",
      "display_name": "Python 3"
    },
    "language_info": {
      "name": "python"
    }
  },
  "cells": [
    {
      "cell_type": "code",
      "execution_count": null,
      "metadata": {
        "id": "YAb1WNRvDApW"
      },
      "outputs": [],
      "source": [
        "import numpy as np\n",
        "import pandas as pd\n",
        "from sklearn.preprocessing import StandardScaler\n",
        "from sklearn.model_selection import train_test_split\n",
        "from sklearn.datasets import load_iris\n",
        "from tensorflow.keras.models import Sequential\n",
        "from tensorflow.keras.layers import Dense, Dropout\n",
        "from tensorflow.keras.optimizers import SGD, Adam, RMSprop\n",
        "from tensorflow.keras.utils import to_categorical\n",
        "import matplotlib.pyplot as plt"
      ]
    },
    {
      "cell_type": "code",
      "source": [
        "iris=load_iris()\n",
        "sc=StandardScaler()\n",
        "x=iris.data\n",
        "y=to_categorical(iris.target)\n",
        "x_train,x_test,y_train,y_test=train_test_split(x,y,test_size=0.2,random_state=42)\n",
        "x_train=sc.fit_transform(x_train)\n",
        "x_test=sc.transform(x_test)"
      ],
      "metadata": {
        "id": "-_w3BNxpE-K5"
      },
      "execution_count": null,
      "outputs": []
    },
    {
      "cell_type": "markdown",
      "source": [
        "ADAM OPTIMIZER"
      ],
      "metadata": {
        "id": "u9DecyBeGkgN"
      }
    },
    {
      "cell_type": "code",
      "source": [
        "model= Sequential([\n",
        "    Dense(16,activation=\"relu\",input_shape=(4,)),\n",
        "    Dense(12,activation=\"relu\"),\n",
        "    Dense(3,activation=\"softmax\"),\n",
        "])\n",
        "model.compile(optimizer='adam', loss='categorical_crossentropy', metrics=['accuracy'])\n",
        "history = model.fit(x_train, y_train, validation_split=0.2, epochs=50, verbose=0)\n",
        "\n",
        "# Accuracy\n",
        "plt.plot(history.history['accuracy'], label='Train Acc')\n",
        "plt.plot(history.history['val_accuracy'], label='Val Acc')\n",
        "plt.title(\"Accuracy per Epoch\")\n",
        "plt.xlabel(\"Epoch\"); plt.ylabel(\"Accuracy\"); plt.legend(); plt.grid(True); plt.show()\n",
        "\n",
        "# Loss\n",
        "plt.plot(history.history['loss'], label='Train Loss')\n",
        "plt.plot(history.history['val_loss'], label='Val Loss')\n",
        "plt.title(\"Loss per Epoch\")\n",
        "plt.xlabel(\"Epoch\"); plt.ylabel(\"Loss\"); plt.legend(); plt.grid(True); plt.show()"
      ],
      "metadata": {
        "id": "HvYb5JIvFFdT"
      },
      "execution_count": null,
      "outputs": []
    },
    {
      "cell_type": "markdown",
      "source": [
        "ADAM+SIGMOID\n"
      ],
      "metadata": {
        "id": "S3GHDXIVGvsR"
      }
    },
    {
      "cell_type": "code",
      "source": [
        "model2= Sequential([\n",
        "    Dense(16,activation=\"sigmoid\",input_shape=(4,)),\n",
        "    Dense(12,activation=\"sigmoid\"),\n",
        "    Dense(3,activation=\"softmax\"),\n",
        "])\n",
        "model2.compile(optimizer='adam', loss='categorical_crossentropy', metrics=['accuracy'])\n",
        "history = model2.fit(x_train, y_train, validation_split=0.2, epochs=50, verbose=0)\n",
        "\n",
        "# Accuracy\n",
        "plt.plot(history.history['accuracy'], label='Train Acc')\n",
        "plt.plot(history.history['val_accuracy'], label='Val Acc')\n",
        "plt.title(\"Accuracy per Epoch\")\n",
        "plt.xlabel(\"Epoch\"); plt.ylabel(\"Accuracy\"); plt.legend(); plt.grid(True); plt.show()\n",
        "\n",
        "# Loss\n",
        "plt.plot(history.history['loss'], label='Train Loss')\n",
        "plt.plot(history.history['val_loss'], label='Val Loss')\n",
        "plt.title(\"Loss per Epoch\")\n",
        "plt.xlabel(\"Epoch\"); plt.ylabel(\"Loss\"); plt.legend(); plt.grid(True); plt.show()"
      ],
      "metadata": {
        "id": "RQTI6ETxGoZQ"
      },
      "execution_count": null,
      "outputs": []
    },
    {
      "cell_type": "markdown",
      "source": [
        "ADAM + TANH\n"
      ],
      "metadata": {
        "id": "eTpWp1SKG5D1"
      }
    },
    {
      "cell_type": "code",
      "source": [
        "model3= Sequential([\n",
        "    Dense(16,activation=\"tanh\",input_shape=(4,)),\n",
        "    Dense(12,activation=\"tanh\"),\n",
        "    Dense(3,activation=\"softmax\"),\n",
        "])\n",
        "model3.compile(optimizer='adam', loss='categorical_crossentropy', metrics=['accuracy'])\n",
        "history = model3.fit(x_train, y_train, validation_split=0.2, epochs=50, verbose=0)\n",
        "\n",
        "# Accuracy\n",
        "plt.plot(history.history['accuracy'], label='Train Acc')\n",
        "plt.plot(history.history['val_accuracy'], label='Val Acc')\n",
        "plt.title(\"Accuracy per Epoch\")\n",
        "plt.xlabel(\"Epoch\"); plt.ylabel(\"Accuracy\"); plt.legend(); plt.grid(True); plt.show()\n",
        "\n",
        "# Loss\n",
        "plt.plot(history.history['loss'], label='Train Loss')\n",
        "plt.plot(history.history['val_loss'], label='Val Loss')\n",
        "plt.title(\"Loss per Epoch\")\n",
        "plt.xlabel(\"Epoch\"); plt.ylabel(\"Loss\"); plt.legend(); plt.grid(True); plt.show()"
      ],
      "metadata": {
        "id": "2gzxannXG1fE"
      },
      "execution_count": null,
      "outputs": []
    },
    {
      "cell_type": "markdown",
      "source": [
        "CHANGING NETWORK DEPTH"
      ],
      "metadata": {
        "id": "6-PNf-bEHbTG"
      }
    },
    {
      "cell_type": "code",
      "source": [
        "model4= Sequential([\n",
        "    Dense(16,activation=\"sigmoid\",input_shape=(4,)),\n",
        "    #one layer only\n",
        "    Dense(32,activation=\"sigmoid\"),\n",
        "\n",
        "    Dense(3,activation=\"softmax\"),\n",
        "])\n",
        "model4.compile(optimizer='adam', loss='categorical_crossentropy', metrics=['accuracy'])\n",
        "history = model4.fit(x_train, y_train, validation_split=0.2, epochs=50, verbose=0)\n",
        "\n",
        "# Accuracy\n",
        "plt.plot(history.history['accuracy'], label='Train Acc')\n",
        "plt.plot(history.history['val_accuracy'], label='Val Acc')\n",
        "plt.title(\"Accuracy per Epoch\")\n",
        "plt.xlabel(\"Epoch\"); plt.ylabel(\"Accuracy\"); plt.legend(); plt.grid(True); plt.show()\n",
        "\n",
        "# Loss\n",
        "plt.plot(history.history['loss'], label='Train Loss')\n",
        "plt.plot(history.history['val_loss'], label='Val Loss')\n",
        "plt.title(\"Loss per Epoch\")\n",
        "plt.xlabel(\"Epoch\"); plt.ylabel(\"Loss\"); plt.legend(); plt.grid(True); plt.show()"
      ],
      "metadata": {
        "id": "cCrnZX-wHP0C"
      },
      "execution_count": null,
      "outputs": []
    },
    {
      "cell_type": "markdown",
      "source": [
        "MORE HIDDEN LAYERS\n",
        "DIFFERENT COMBINATIONS OF ACTIVATION FUNCTIONS THEN CONVERGERNCE IS SLOWER WHY ?"
      ],
      "metadata": {
        "id": "QBHPl6P0Hsol"
      }
    },
    {
      "cell_type": "code",
      "source": [
        "model5= Sequential([\n",
        "    Dense(16,activation=\"sigmoid\",input_shape=(4,)),\n",
        "    Dense(64,activation=\"relu\"),\n",
        "    Dense(32,activation=\"relu\"),\n",
        "    Dense(12,activation=\"sigmoid\"),\n",
        "    Dense(3,activation=\"softmax\"),\n",
        "])\n",
        "model5.compile(optimizer='adam', loss='categorical_crossentropy', metrics=['accuracy'])\n",
        "history = model5.fit(x_train, y_train, validation_split=0.2, epochs=50, verbose=0)\n",
        "\n",
        "# Accuracy\n",
        "plt.plot(history.history['accuracy'], label='Train Acc')\n",
        "plt.plot(history.history['val_accuracy'], label='Val Acc')\n",
        "plt.title(\"Accuracy per Epoch\")\n",
        "plt.xlabel(\"Epoch\"); plt.ylabel(\"Accuracy\"); plt.legend(); plt.grid(True); plt.show()\n",
        "\n",
        "# Loss\n",
        "plt.plot(history.history['loss'], label='Train Loss')\n",
        "plt.plot(history.history['val_loss'], label='Val Loss')\n",
        "plt.title(\"Loss per Epoch\")\n",
        "plt.xlabel(\"Epoch\"); plt.ylabel(\"Loss\"); plt.legend(); plt.grid(True); plt.show()"
      ],
      "metadata": {
        "id": "PNhcwm7cHnoh"
      },
      "execution_count": null,
      "outputs": []
    },
    {
      "cell_type": "code",
      "source": [
        "model6= Sequential([\n",
        "    Dense(16,activation=\"relu\",input_shape=(4,)),\n",
        "    Dense(64,activation=\"relu\"),\n",
        "    Dense(32,activation=\"relu\"),\n",
        "    Dense(12,activation=\"relu\"),\n",
        "    Dense(3,activation=\"softmax\"),\n",
        "])\n",
        "model6.compile(optimizer='adam', loss='categorical_crossentropy', metrics=['accuracy'])\n",
        "history = model6.fit(x_train, y_train, validation_split=0.2, epochs=50, verbose=0)\n",
        "\n",
        "# Accuracy\n",
        "plt.plot(history.history['accuracy'], label='Train Acc')\n",
        "plt.plot(history.history['val_accuracy'], label='Val Acc')\n",
        "plt.title(\"Accuracy per Epoch\")\n",
        "plt.xlabel(\"Epoch\"); plt.ylabel(\"Accuracy\"); plt.legend(); plt.grid(True); plt.show()\n",
        "\n",
        "# Loss\n",
        "plt.plot(history.history['loss'], label='Train Loss')\n",
        "plt.plot(history.history['val_loss'], label='Val Loss')\n",
        "plt.title(\"Loss per Epoch\")\n",
        "plt.xlabel(\"Epoch\"); plt.ylabel(\"Loss\"); plt.legend(); plt.grid(True); plt.show()"
      ],
      "metadata": {
        "id": "1pK2LsVVIKMP"
      },
      "execution_count": null,
      "outputs": []
    },
    {
      "cell_type": "markdown",
      "source": [
        "DROPOUT\n"
      ],
      "metadata": {
        "id": "LjOm_QcyIpaF"
      }
    },
    {
      "cell_type": "code",
      "source": [
        "model7= Sequential([\n",
        "    Dense(16,activation=\"relu\",input_shape=(4,)),\n",
        "    Dropout(0.3),\n",
        "    Dense(64,activation=\"relu\"),\n",
        "    Dense(32,activation=\"relu\"),\n",
        "    Dropout(0.2),\n",
        "    Dense(12,activation=\"relu\"),\n",
        "    Dense(3,activation=\"softmax\"),\n",
        "])\n",
        "model7.compile(optimizer='adam', loss='categorical_crossentropy', metrics=['accuracy'])\n",
        "history = model7.fit(x_train, y_train, validation_split=0.2, epochs=50, verbose=0)\n",
        "\n",
        "# Accuracy\n",
        "plt.plot(history.history['accuracy'], label='Train Acc')\n",
        "plt.plot(history.history['val_accuracy'], label='Val Acc')\n",
        "plt.title(\"Accuracy per Epoch\")\n",
        "plt.xlabel(\"Epoch\"); plt.ylabel(\"Accuracy\"); plt.legend(); plt.grid(True); plt.show()\n",
        "\n",
        "# Loss\n",
        "plt.plot(history.history['loss'], label='Train Loss')\n",
        "plt.plot(history.history['val_loss'], label='Val Loss')\n",
        "plt.title(\"Loss per Epoch\")\n",
        "plt.xlabel(\"Epoch\"); plt.ylabel(\"Loss\"); plt.legend(); plt.grid(True); plt.show()"
      ],
      "metadata": {
        "id": "r0ZRBMjMIxgO"
      },
      "execution_count": null,
      "outputs": []
    },
    {
      "cell_type": "markdown",
      "source": [
        "LEARNING RATES\n",
        "0.0001 took very long time than 0.01 and less accuracy"
      ],
      "metadata": {
        "id": "7u8-9NSeJKLk"
      }
    },
    {
      "cell_type": "code",
      "source": [
        "model8= Sequential([\n",
        "    Dense(16,activation=\"relu\",input_shape=(4,)),\n",
        "    Dense(12,activation=\"relu\"),\n",
        "    Dense(3,activation=\"softmax\"),\n",
        "])\n",
        "model8.compile(optimizer=Adam(learning_rate=0.0001), loss='categorical_crossentropy', metrics=['accuracy'])\n",
        "history = model8.fit(x_train, y_train, validation_split=0.2, epochs=50, verbose=0)\n",
        "\n",
        "# Accuracy\n",
        "plt.plot(history.history['accuracy'], label='Train Acc')\n",
        "plt.plot(history.history['val_accuracy'], label='Val Acc')\n",
        "plt.title(\"Accuracy per Epoch\")\n",
        "plt.xlabel(\"Epoch\"); plt.ylabel(\"Accuracy\"); plt.legend(); plt.grid(True); plt.show()\n",
        "\n",
        "# Loss\n",
        "plt.plot(history.history['loss'], label='Train Loss')\n",
        "plt.plot(history.history['val_loss'], label='Val Loss')\n",
        "plt.title(\"Loss per Epoch\")\n",
        "plt.xlabel(\"Epoch\"); plt.ylabel(\"Loss\"); plt.legend(); plt.grid(True); plt.show()"
      ],
      "metadata": {
        "id": "ics44epPIkCZ"
      },
      "execution_count": null,
      "outputs": []
    },
    {
      "cell_type": "code",
      "source": [
        "model9= Sequential([\n",
        "    Dense(16,activation=\"relu\",input_shape=(4,)),\n",
        "    Dense(12,activation=\"relu\"),\n",
        "    Dense(3,activation=\"softmax\"),\n",
        "])\n",
        "model9.compile(optimizer=Adam(learning_rate=0.001), loss='categorical_crossentropy', metrics=['accuracy'])\n",
        "history = model9.fit(x_train, y_train, validation_split=0.2, epochs=50, verbose=0)\n",
        "\n",
        "# Accuracy\n",
        "plt.plot(history.history['accuracy'], label='Train Acc')\n",
        "plt.plot(history.history['val_accuracy'], label='Val Acc')\n",
        "plt.title(\"Accuracy per Epoch\")\n",
        "plt.xlabel(\"Epoch\"); plt.ylabel(\"Accuracy\"); plt.legend(); plt.grid(True); plt.show()\n",
        "\n",
        "# Loss\n",
        "plt.plot(history.history['loss'], label='Train Loss')\n",
        "plt.plot(history.history['val_loss'], label='Val Loss')\n",
        "plt.title(\"Loss per Epoch\")\n",
        "plt.xlabel(\"Epoch\"); plt.ylabel(\"Loss\"); plt.legend(); plt.grid(True); plt.show()"
      ],
      "metadata": {
        "id": "1mVMO4NFJcBp"
      },
      "execution_count": null,
      "outputs": []
    },
    {
      "cell_type": "code",
      "source": [
        "model10= Sequential([\n",
        "    Dense(16,activation=\"relu\",input_shape=(4,)),\n",
        "    Dense(12,activation=\"relu\"),\n",
        "    Dense(3,activation=\"softmax\"),\n",
        "])\n",
        "model10.compile(optimizer=Adam(learning_rate=0.01), loss='categorical_crossentropy', metrics=['accuracy'])\n",
        "history = model10.fit(x_train, y_train, validation_split=0.2, epochs=50, verbose=0)\n",
        "\n",
        "# Accuracy\n",
        "plt.plot(history.history['accuracy'], label='Train Acc')\n",
        "plt.plot(history.history['val_accuracy'], label='Val Acc')\n",
        "plt.title(\"Accuracy per Epoch\")\n",
        "plt.xlabel(\"Epoch\"); plt.ylabel(\"Accuracy\"); plt.legend(); plt.grid(True); plt.show()\n",
        "\n",
        "# Loss\n",
        "plt.plot(history.history['loss'], label='Train Loss')\n",
        "plt.plot(history.history['val_loss'], label='Val Loss')\n",
        "plt.title(\"Loss per Epoch\")\n",
        "plt.xlabel(\"Epoch\"); plt.ylabel(\"Loss\"); plt.legend(); plt.grid(True); plt.show()"
      ],
      "metadata": {
        "id": "wwwZV4aQJxgK"
      },
      "execution_count": null,
      "outputs": []
    },
    {
      "cell_type": "markdown",
      "source": [
        "SGD\n"
      ],
      "metadata": {
        "id": "1XVHaEayYTcl"
      }
    },
    {
      "cell_type": "code",
      "source": [
        "model11= Sequential([\n",
        "    Dense(16,activation=\"relu\",input_shape=(4,)),\n",
        "    Dense(12,activation=\"relu\"),\n",
        "    Dense(3,activation=\"softmax\"),\n",
        "])\n",
        "model11.compile(optimizer='SGD', loss='categorical_crossentropy', metrics=['accuracy'])\n",
        "history = model11.fit(x_train, y_train, validation_split=0.2, epochs=50, verbose=0)\n",
        "\n",
        "# Accuracy\n",
        "plt.plot(history.history['accuracy'], label='Train Acc')\n",
        "plt.plot(history.history['val_accuracy'], label='Val Acc')\n",
        "plt.title(\"Accuracy per Epoch\")\n",
        "plt.xlabel(\"Epoch\"); plt.ylabel(\"Accuracy\"); plt.legend(); plt.grid(True); plt.show()\n",
        "\n",
        "# Loss\n",
        "plt.plot(history.history['loss'], label='Train Loss')\n",
        "plt.plot(history.history['val_loss'], label='Val Loss')\n",
        "plt.title(\"Loss per Epoch\")\n",
        "plt.xlabel(\"Epoch\"); plt.ylabel(\"Loss\"); plt.legend(); plt.grid(True); plt.show()"
      ],
      "metadata": {
        "id": "wGEzhFuoJ8eW"
      },
      "execution_count": null,
      "outputs": []
    },
    {
      "cell_type": "code",
      "source": [
        "model11= Sequential([\n",
        "    Dense(16,activation=\"relu\",input_shape=(4,)),\n",
        "    Dense(12,activation=\"relu\"),\n",
        "    Dense(3,activation=\"softmax\"),\n",
        "])\n",
        "model11.compile(optimizer=SGD(momentum=0.69), loss='categorical_crossentropy', metrics=['accuracy'])\n",
        "history = model11.fit(x_train, y_train, validation_split=0.2, epochs=50, verbose=0)\n",
        "\n",
        "# Accuracy\n",
        "plt.plot(history.history['accuracy'], label='Train Acc')\n",
        "plt.plot(history.history['val_accuracy'], label='Val Acc')\n",
        "plt.title(\"Accuracy per Epoch\")\n",
        "plt.xlabel(\"Epoch\"); plt.ylabel(\"Accuracy\"); plt.legend(); plt.grid(True); plt.show()\n",
        "\n",
        "# Loss\n",
        "plt.plot(history.history['loss'], label='Train Loss')\n",
        "plt.plot(history.history['val_loss'], label='Val Loss')\n",
        "plt.title(\"Loss per Epoch\")\n",
        "plt.xlabel(\"Epoch\"); plt.ylabel(\"Loss\"); plt.legend(); plt.grid(True); plt.show()"
      ],
      "metadata": {
        "id": "BAyGAWGOYa3N"
      },
      "execution_count": null,
      "outputs": []
    },
    {
      "cell_type": "code",
      "source": [],
      "metadata": {
        "id": "Lzlc14AomHgq"
      },
      "execution_count": null,
      "outputs": []
    }
  ]
}